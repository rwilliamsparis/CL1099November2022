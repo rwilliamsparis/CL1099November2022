{
 "cells": [
  {
   "cell_type": "markdown",
   "metadata": {},
   "source": [
    "# Baby python\n"
   ]
  },
  {
   "cell_type": "markdown",
   "metadata": {},
   "source": [
    "## Introduction\n",
    "\n",
    "*This Notebook was prepared by [Ryan Heuser](https://ryanheuser.org). His original excellent original notebooks can be found [here](https://github.com/quadrismegistus/literarytextmining). I (Russell Williams) have made some light amendments to use his material in the context of our course.*\n",
    "\n",
    "As programming languages go, [Python](https://en.wikipedia.org/wiki/Python_(programming_language)) is known for its elegance. Its syntax is spare and legible, and it uses indentation like a poem.\n",
    "\n",
    "```python\n",
    "# for example...\n",
    "if section=='intro':\n",
    "    print('Welcome to the introduction!')\n",
    "```\n",
    "\n",
    "It is flexible: as a scripting language, its code can be executed on the spot; no need for compiling them down to pure “machine code“ first. And forgiving: as a 'dynamically typed' language, its variable names can refer to any type of object.\n",
    "\n",
    "Python is widely available, open source, and managed by a non-profit, the Python Software Foundation. Guido van Rossum, a researcher at Centrum voor Wiskunde en Informatica in the Netherlands, created the language in 1997 after his work on ABC, a programming language designed for non-technical users which emphasized ease of use and design ([*Linux Journal*, 1998 interview](https://www.linuxjournal.com/article/2959)).\n",
    "\n",
    "As programming languages go, Python's politics aren't bad. In stark contrast to Linus Torvalds, the creator of the Linux operating system who has long verbally abused contributors to the Linux source code, van Rossum has welcomed and supported contributions and has actively worked to make the Python core developer community more diverse (for more on this see this fascinating [*New Yorker* profile of Torvalds](https://www.newyorker.com/science/elements/after-years-of-abusive-e-mails-the-creator-of-linux-steps-aside)).\n",
    "\n",
    "Python's use is also [on the rise](https://stackoverflow.blog/2017/09/06/incredible-growth-python/), especially since 2012. As of  2017 Python is the most active programming language on StackOverflow (a popular programming help and discussion community). Python is especially popular in the academic and data science communities. It is [often compared to R]([http://res.cloudinary.com/dyd911kmh/image/upload/f_auto,q_auto:best/v1523009719/main-qimg-9dcf536c501455f073dfbc4e09798a51_vpijr0.png), a programming language made by statisticians and commonly used for data science work. Other versions of “Literary Text Mining” may teach R instead of Python. Either is a great language, and they both have strengths and weaknesses. In my (Ryan Heuser) opinion, Python is more flexible, playful, elegant, and practical than R. If you can master the basics of Python, you can basically program anything you can imagine."
   ]
  },
  {
   "cell_type": "markdown",
   "metadata": {},
   "source": [
    "## Hello world!"
   ]
  },
  {
   "cell_type": "code",
   "execution_count": null,
   "metadata": {},
   "outputs": [],
   "source": [
    "# 'Uncomment' the line below: (remove the \"#\" at the front) -->\n",
    "\n",
    "#print(\"Hello world\")"
   ]
  },
  {
   "cell_type": "code",
   "execution_count": null,
   "metadata": {},
   "outputs": [],
   "source": [
    "# @TODO: Print your name below\n",
    "\n",
    "print(\"Russell\")"
   ]
  },
  {
   "cell_type": "markdown",
   "metadata": {},
   "source": [
    "## Letters ('strings')\n",
    "\n",
    "There are two basic types of data in Python: letters ('strings') and numbers (integers and 'floats').\n",
    "\n",
    "Anything wrapped in quotes is a string, which means it should be understood as the letters (or 'characters') that make it up."
   ]
  },
  {
   "cell_type": "code",
   "execution_count": 1,
   "metadata": {},
   "outputs": [
    {
     "data": {
      "text/plain": [
       "'Hello'"
      ]
     },
     "execution_count": 1,
     "metadata": {},
     "output_type": "execute_result"
    }
   ],
   "source": [
    "# This is called a string:\n",
    "\n",
    "\"Hello\""
   ]
  },
  {
   "cell_type": "code",
   "execution_count": 2,
   "metadata": {},
   "outputs": [
    {
     "data": {
      "text/plain": [
       "'World'"
      ]
     },
     "execution_count": 2,
     "metadata": {},
     "output_type": "execute_result"
    }
   ],
   "source": [
    "# Strings can be wrapped in double or in single quotes\n",
    "\n",
    "'World'"
   ]
  },
  {
   "cell_type": "code",
   "execution_count": 3,
   "metadata": {},
   "outputs": [
    {
     "data": {
      "text/plain": [
       "\"\\nNo more be grieved at that which thou hast done:\\nRoses have thorns, and silver fountains mud;\\nClouds and eclipses stain both moon and sun,\\nAnd loathsome canker lives in sweetest bud.\\nAll men make faults, and even I in this,\\nAuthorizing thy trespass with compare,\\nMyself corrupting, salving thy amiss,\\nExcusing thy sins more than thy sins are;\\nFor to thy sensual fault I bring in sense--\\nThy adverse party is thy advocate--\\nAnd 'gainst myself a lawful plea commence:\\nSuch civil war is in my love and hate\\nThat I an accessary needs must be\\nTo that sweet thief which sourly robs from me.\\n\""
      ]
     },
     "execution_count": 3,
     "metadata": {},
     "output_type": "execute_result"
    }
   ],
   "source": [
    "# Multi-line strings can be wrapped in three double quotes:\n",
    "\n",
    "\"\"\"\n",
    "No more be grieved at that which thou hast done:\n",
    "Roses have thorns, and silver fountains mud;\n",
    "Clouds and eclipses stain both moon and sun,\n",
    "And loathsome canker lives in sweetest bud.\n",
    "All men make faults, and even I in this,\n",
    "Authorizing thy trespass with compare,\n",
    "Myself corrupting, salving thy amiss,\n",
    "Excusing thy sins more than thy sins are;\n",
    "For to thy sensual fault I bring in sense--\n",
    "Thy adverse party is thy advocate--\n",
    "And 'gainst myself a lawful plea commence:\n",
    "Such civil war is in my love and hate\n",
    "That I an accessary needs must be\n",
    "To that sweet thief which sourly robs from me.\n",
    "\"\"\""
   ]
  },
  {
   "cell_type": "markdown",
   "metadata": {},
   "source": [
    "### 'Adding' strings "
   ]
  },
  {
   "cell_type": "markdown",
   "metadata": {},
   "source": [
    "When you 'add' string `b` to string `a`, you \"concatenate\" the two strings."
   ]
  },
  {
   "cell_type": "code",
   "execution_count": 4,
   "metadata": {},
   "outputs": [
    {
     "data": {
      "text/plain": [
       "'Helloworld'"
      ]
     },
     "execution_count": 4,
     "metadata": {},
     "output_type": "execute_result"
    }
   ],
   "source": [
    "# for example: add 'world' to 'Hello'\n",
    "\n",
    "'Hello' + 'world'"
   ]
  },
  {
   "cell_type": "code",
   "execution_count": 5,
   "metadata": {},
   "outputs": [
    {
     "data": {
      "text/plain": [
       "'Hello world'"
      ]
     },
     "execution_count": 5,
     "metadata": {},
     "output_type": "execute_result"
    }
   ],
   "source": [
    "# add ' ' and then 'world' to 'Hello'\n",
    "\n",
    "'Hello' + ' ' + 'world'"
   ]
  },
  {
   "cell_type": "code",
   "execution_count": null,
   "metadata": {},
   "outputs": [],
   "source": [
    "# @TODO: Say Hello to you a friend of yours using '+'\n",
    "\n"
   ]
  },
  {
   "cell_type": "markdown",
   "metadata": {},
   "source": [
    "## Numbers ('integers' and 'floats')\n",
    "\n",
    "Numbers, whether integers or 'floats' (decimal'd numbers), are *not* surrounded by quotes."
   ]
  },
  {
   "cell_type": "code",
   "execution_count": null,
   "metadata": {},
   "outputs": [],
   "source": [
    "# This is an integer\n",
    "\n",
    "type(123)"
   ]
  },
  {
   "cell_type": "code",
   "execution_count": null,
   "metadata": {},
   "outputs": [],
   "source": [
    "# This is a 'float'\n",
    "\n",
    "type(123.0)"
   ]
  },
  {
   "cell_type": "code",
   "execution_count": null,
   "metadata": {},
   "outputs": [],
   "source": [
    "# So is this\n",
    "type(123.1321151341341534134131231531123213)"
   ]
  },
  {
   "cell_type": "code",
   "execution_count": null,
   "metadata": {},
   "outputs": [],
   "source": [
    "# These are equal\n",
    "\n",
    "123 == 123.0          # '==' means 'is equal to'"
   ]
  },
  {
   "cell_type": "code",
   "execution_count": null,
   "metadata": {},
   "outputs": [],
   "source": [
    "# These are equal\n",
    "\n",
    "123 == 123.000000000000"
   ]
  },
  {
   "cell_type": "code",
   "execution_count": 6,
   "metadata": {},
   "outputs": [
    {
     "data": {
      "text/plain": [
       "False"
      ]
     },
     "execution_count": 6,
     "metadata": {},
     "output_type": "execute_result"
    }
   ],
   "source": [
    "# @TODO: Uncomment this line below. Do you think they are equal?\n",
    "\n",
    "123 == \"123\"\n"
   ]
  },
  {
   "cell_type": "markdown",
   "metadata": {},
   "source": [
    "### Arithmetic on ints and floats"
   ]
  },
  {
   "cell_type": "code",
   "execution_count": 7,
   "metadata": {},
   "outputs": [
    {
     "data": {
      "text/plain": [
       "173"
      ]
     },
     "execution_count": 7,
     "metadata": {},
     "output_type": "execute_result"
    }
   ],
   "source": [
    "# Addition\n",
    "\n",
    "123 + 50"
   ]
  },
  {
   "cell_type": "code",
   "execution_count": 8,
   "metadata": {},
   "outputs": [
    {
     "data": {
      "text/plain": [
       "73"
      ]
     },
     "execution_count": 8,
     "metadata": {},
     "output_type": "execute_result"
    }
   ],
   "source": [
    "# Substraction\n",
    "\n",
    "123 - 50"
   ]
  },
  {
   "cell_type": "code",
   "execution_count": 9,
   "metadata": {},
   "outputs": [
    {
     "data": {
      "text/plain": [
       "6150"
      ]
     },
     "execution_count": 9,
     "metadata": {},
     "output_type": "execute_result"
    }
   ],
   "source": [
    "# Multiplication\n",
    "\n",
    "123 * 50"
   ]
  },
  {
   "cell_type": "code",
   "execution_count": 10,
   "metadata": {},
   "outputs": [
    {
     "data": {
      "text/plain": [
       "2.46"
      ]
     },
     "execution_count": 10,
     "metadata": {},
     "output_type": "execute_result"
    }
   ],
   "source": [
    "# Division\n",
    "\n",
    "123 / 50"
   ]
  },
  {
   "cell_type": "code",
   "execution_count": 11,
   "metadata": {},
   "outputs": [
    {
     "data": {
      "text/plain": [
       "2"
      ]
     },
     "execution_count": 11,
     "metadata": {},
     "output_type": "execute_result"
    }
   ],
   "source": [
    "# Integer division (no remainder)\n",
    "\n",
    "123 // 50"
   ]
  },
  {
   "cell_type": "code",
   "execution_count": 12,
   "metadata": {},
   "outputs": [
    {
     "data": {
      "text/plain": [
       "23"
      ]
     },
     "execution_count": 12,
     "metadata": {},
     "output_type": "execute_result"
    }
   ],
   "source": [
    "# Remainder from integer division\n",
    "\n",
    "123 % 50"
   ]
  },
  {
   "cell_type": "code",
   "execution_count": 13,
   "metadata": {},
   "outputs": [
    {
     "data": {
      "text/plain": [
       "458"
      ]
     },
     "execution_count": 13,
     "metadata": {},
     "output_type": "execute_result"
    }
   ],
   "source": [
    "# @TODO: How old would Shakespeare, born 1564, \n",
    "# be if he were alive today?\n",
    "\n",
    "2022 - 1564\n",
    "\n"
   ]
  },
  {
   "cell_type": "code",
   "execution_count": 14,
   "metadata": {},
   "outputs": [
    {
     "data": {
      "text/plain": [
       "4"
      ]
     },
     "execution_count": 14,
     "metadata": {},
     "output_type": "execute_result"
    }
   ],
   "source": [
    "# @TODO: How many *full* Pomodoro cycles (25 minutes each)\n",
    "# can I fit into a 2 hour work session?\n",
    "\n",
    "120 // 25\n",
    "\n"
   ]
  },
  {
   "cell_type": "markdown",
   "metadata": {},
   "source": [
    "## Variables\n",
    "\n",
    "Ok, all of that was fun. But we've just been playing with primitive data by itself. Let's now throw in the concept of the variable.\n",
    "\n",
    "### What is a variable?\n",
    "\n",
    "Only in the humanities would we explain the concept of the variable using concepts from Swiss semiotician [Ferdinand de Saussure](https://en.wikipedia.org/wiki/Ferdinand_de_Saussure)'s influential *Course in General Linguistics* of 1916. Saussure divided the sign into two components: the **signifier** and the **signified**. If the word \"tree\" is a signifier, then an actual tree (or its actual concept) is the signified.\n",
    "\n",
    "Saussurean linguistics quickly gets complicated, but the important aspect to remember here is that *the relationship between signifier and signified is purely arbitrary.* There is zero rhyme, reason, or resonance for the association of a signifier with its signified. This is in contrast to early modern beliefs about the naturalness of the signifier to its sign (for more on this see Foucault in *Order of Things*).\n",
    "\n",
    "<center><img src=\"images/signified-signifier.png\" width=\"500\" /><br/><i>Figure 2. Diagrams of the signifier-signified relationship.</i></center>"
   ]
  },
  {
   "cell_type": "markdown",
   "metadata": {},
   "source": [
    "### A variable is a signifier\n",
    "\n",
    "In short, then, in any programming language a 'variable' signifies, or points to, a signified."
   ]
  },
  {
   "cell_type": "code",
   "execution_count": 15,
   "metadata": {},
   "outputs": [],
   "source": [
    "sausage = \"\"\"\n",
    "          &&& &&  & &&\n",
    "      && &\\/&\\|& ()|/ @, &&\n",
    "      &\\/(/&/&||/& /_/)_&/_&\n",
    "   &() &\\/&|()|/&\\/ '%\" & ()\n",
    "  &_\\_&&_\\ |& |&&/&__%_/_& &&\n",
    "&&   && & &| &| /& & % ()& /&&\n",
    " ()&_---()&\\&\\|&&-&&--%---()~\n",
    "     &&     \\|||\n",
    "             |||\n",
    "             |||\n",
    "             |||\n",
    "       , -=-~  .-^- _\n",
    "\n",
    "\"\"\""
   ]
  },
  {
   "cell_type": "markdown",
   "metadata": {},
   "source": [
    "In this example, the variable is the word 'tree' at the top left. This is the **signifier**.\n",
    "\n",
    "The variable points to what? A multi-line string demarcated by three double-quotes (\"\"\"). This is the **signified**."
   ]
  },
  {
   "cell_type": "code",
   "execution_count": 19,
   "metadata": {},
   "outputs": [
    {
     "name": "stdout",
     "output_type": "stream",
     "text": [
      "\n",
      "          &&& &&  & &&\n",
      "      && &\\/&\\|& ()|/ @, &&\n",
      "      &\\/(/&/&||/& /_/)_&/_&\n",
      "   &() &\\/&|()|/&\\/ '%\" & ()\n",
      "  &_\\_&&_\\ |& |&&/&__%_/_& &&\n",
      "&&   && & &| &| /& & % ()& /&&\n",
      " ()&_---()&\\&\\|&&-&&--%---()~\n",
      "     &&     \\|||\n",
      "             |||\n",
      "             |||\n",
      "             |||\n",
      "       , -=-~  .-^- _\n",
      "\n",
      "\n",
      "woo tree\n"
     ]
    }
   ],
   "source": [
    "# @TODO print the tree\n",
    "\n",
    "print(sausage)\n",
    "print(\"woo tree\")\n"
   ]
  },
  {
   "cell_type": "code",
   "execution_count": null,
   "metadata": {},
   "outputs": [],
   "source": [
    "# @TODO print the tree, but add a cool motto\n"
   ]
  },
  {
   "cell_type": "markdown",
   "metadata": {},
   "source": [
    "### Variables can do what their signifieds can"
   ]
  },
  {
   "cell_type": "code",
   "execution_count": null,
   "metadata": {},
   "outputs": [],
   "source": [
    "first_name = 'Ryan'\n",
    "last_name = 'Heuser'\n",
    "\n",
    "first_name + last_name"
   ]
  },
  {
   "cell_type": "code",
   "execution_count": null,
   "metadata": {},
   "outputs": [],
   "source": [
    "#@TODO Replace your name above and add a space in between your first and last name\n",
    "\n",
    "first_name = 'Russell'\n",
    "last_name = 'Williams'\n",
    "\n",
    "last_name + first_name\n"
   ]
  },
  {
   "cell_type": "code",
   "execution_count": null,
   "metadata": {},
   "outputs": [],
   "source": [
    "#@TODO Make a variable to store your friend's name, then\n",
    "# print them a message to say hello\n",
    "\n",
    "friendname = 'sausage'\n",
    "\n",
    "\"hello\" + \" \" + friendname\n",
    "\n"
   ]
  },
  {
   "cell_type": "markdown",
   "metadata": {},
   "source": [
    "# Variables can be numbers"
   ]
  },
  {
   "cell_type": "code",
   "execution_count": null,
   "metadata": {},
   "outputs": [],
   "source": [
    "num1=123\n",
    "num2=50\n",
    "\n",
    "num1+num2"
   ]
  },
  {
   "cell_type": "code",
   "execution_count": null,
   "metadata": {},
   "outputs": [],
   "source": [
    "num1/num2"
   ]
  },
  {
   "cell_type": "code",
   "execution_count": null,
   "metadata": {},
   "outputs": [],
   "source": [
    "num1//num2"
   ]
  },
  {
   "cell_type": "markdown",
   "metadata": {},
   "source": [
    "### Variables can be overwritten"
   ]
  },
  {
   "cell_type": "code",
   "execution_count": null,
   "metadata": {},
   "outputs": [],
   "source": [
    "important_msg = \"Your mission, should you choose to accept it, is...\""
   ]
  },
  {
   "cell_type": "code",
   "execution_count": null,
   "metadata": {},
   "outputs": [],
   "source": [
    "important_msg_copy = important_msg"
   ]
  },
  {
   "cell_type": "code",
   "execution_count": null,
   "metadata": {},
   "outputs": [],
   "source": [
    "print(important_msg)"
   ]
  },
  {
   "cell_type": "code",
   "execution_count": null,
   "metadata": {},
   "outputs": [],
   "source": [
    "print(important_msg_copy)"
   ]
  },
  {
   "cell_type": "code",
   "execution_count": null,
   "metadata": {},
   "outputs": [],
   "source": [
    "important_msg = \"obladi oblada\""
   ]
  },
  {
   "cell_type": "code",
   "execution_count": null,
   "metadata": {},
   "outputs": [],
   "source": [
    "print(important_msg)"
   ]
  },
  {
   "cell_type": "code",
   "execution_count": null,
   "metadata": {},
   "outputs": [],
   "source": [
    "print(important_msg_copy)"
   ]
  }
 ],
 "metadata": {
  "kernelspec": {
   "display_name": "Python 3 (ipykernel)",
   "language": "python",
   "name": "python3"
  },
  "language_info": {
   "codemirror_mode": {
    "name": "ipython",
    "version": 3
   },
   "file_extension": ".py",
   "mimetype": "text/x-python",
   "name": "python",
   "nbconvert_exporter": "python",
   "pygments_lexer": "ipython3",
   "version": "3.7.8"
  }
 },
 "nbformat": 4,
 "nbformat_minor": 2
}
